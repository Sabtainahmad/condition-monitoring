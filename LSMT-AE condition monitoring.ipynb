{
 "cells": [
  {
   "cell_type": "code",
   "execution_count": 1,
   "metadata": {},
   "outputs": [
    {
     "data": {
      "text/plain": [
       "'E:\\\\Studies\\\\TU Berlin\\\\Thesis\\\\autoencoders_keras-master\\\\Python'"
      ]
     },
     "execution_count": 1,
     "metadata": {},
     "output_type": "execute_result"
    }
   ],
   "source": [
    "import os\n",
    "os.getcwd()\n",
    "\n",
    "os.chdir(\"E:\\\\Studies\\\\TU Berlin\\\\Thesis\\\\autoencoders_keras-master\\\\Python\")\n",
    "\n",
    "os.getcwd()"
   ]
  },
  {
   "cell_type": "code",
   "execution_count": 3,
   "metadata": {},
   "outputs": [],
   "source": [
    "import os\n",
    "import pandas as pd\n",
    "import numpy as np\n",
    "from sklearn import preprocessing\n",
    "import seaborn as sns\n",
    "sns.set(color_codes=True)\n",
    "import matplotlib.pyplot as plt\n",
    "%matplotlib inline\n",
    "\n",
    "from numpy.random import seed\n",
    "from tensorflow import set_random_seed\n",
    "\n",
    "from keras import optimizers, Sequential\n",
    "from keras.models import Model\n",
    "from keras.utils import plot_model\n",
    "from keras.layers import Dense, LSTM, RepeatVector, TimeDistributed\n",
    "from keras.callbacks import ModelCheckpoint, TensorBoard\n",
    "\n",
    "\n",
    "from sklearn.metrics import confusion_matrix, precision_recall_curve\n",
    "from sklearn.metrics import recall_score, classification_report, auc, roc_curve\n",
    "from sklearn.metrics import precision_recall_fscore_support, f1_score"
   ]
  },
  {
   "cell_type": "code",
   "execution_count": 4,
   "metadata": {},
   "outputs": [],
   "source": [
    "seed(10)\n",
    "set_random_seed(10)"
   ]
  },
  {
   "cell_type": "code",
   "execution_count": 5,
   "metadata": {},
   "outputs": [],
   "source": [
    "first = '../../dataset/ims/1st_test'\n",
    "second = '../../dataset/ims/2nd_test'\n",
    "third = '../../dataset/ims/4th_test/txt'"
   ]
  },
  {
   "cell_type": "code",
   "execution_count": null,
   "metadata": {},
   "outputs": [],
   "source": []
  },
  {
   "cell_type": "code",
   "execution_count": 8,
   "metadata": {},
   "outputs": [],
   "source": [
    "def readData(dataDir, setName,set1=False):\n",
    "    files = os.listdir(dataDir)\n",
    "    print(\"Number of files:\",len(files))\n",
    "    \n",
    "    bearing1= list()\n",
    "    bearing2= list()\n",
    "    bearing3= list()\n",
    "    bearing4= list()\n",
    "\n",
    "    bearing_list = {setName+\"_bearing-1\" : bearing1,setName+\"_bearing-2\" : bearing2,setName+\"_bearing-3\" : bearing3,setName+\"_bearing-4\" : bearing4}\n",
    "    \n",
    "    cols=['bearing-1','bearing-2','bearing-3','bearing-4']\n",
    "    \n",
    "    for filename in files:\n",
    "\n",
    "        dataset=pd.read_csv(os.path.join(dataDir, filename), sep='\\t', header=None, names=cols)\n",
    "\n",
    "        avg_df = dataset.groupby(dataset.index // 5).mean()\n",
    "        \n",
    "        for bearing in cols:\n",
    "            dict_key = setName+\"_\"+bearing\n",
    "            if dict_key in bearing_list:\n",
    "                b = pd.DataFrame(avg_df[bearing]).T\n",
    "                bearing_list[setName+\"_\"+bearing].append(b)\n",
    "    \n",
    "    return bearing_list"
   ]
  },
  {
   "cell_type": "code",
   "execution_count": 10,
   "metadata": {},
   "outputs": [
    {
     "name": "stdout",
     "output_type": "stream",
     "text": [
      "Number of files: 984\n",
      "S2_bearing-1 984\n",
      "S2_bearing-2 984\n",
      "S2_bearing-3 984\n",
      "S2_bearing-4 984\n"
     ]
    }
   ],
   "source": [
    "data = readData(second, \"S2\")\n",
    "for bearing in set2:\n",
    "    print(bearing,len(data[bearing]))"
   ]
  },
  {
   "cell_type": "code",
   "execution_count": 46,
   "metadata": {},
   "outputs": [],
   "source": [
    "# split data into training and test set"
   ]
  },
  {
   "cell_type": "code",
   "execution_count": 11,
   "metadata": {},
   "outputs": [
    {
     "name": "stdout",
     "output_type": "stream",
     "text": [
      "(688, 4096) (296, 4096)\n"
     ]
    }
   ],
   "source": [
    "bearing1 = pd.concat(data[\"S2_bearing-1\"])\n",
    "\n",
    "train = bearing1.iloc[0:688]\n",
    "test = bearing1.iloc[688:]\n",
    "train.reset_index(drop= True, inplace=True)\n",
    "test.reset_index(drop= True, inplace=True)\n",
    "print(train.shape, test.shape)"
   ]
  },
  {
   "cell_type": "code",
   "execution_count": 14,
   "metadata": {},
   "outputs": [
    {
     "name": "stdout",
     "output_type": "stream",
     "text": [
      "(688, 4096) (296, 4096)\n"
     ]
    }
   ],
   "source": [
    "# Standardarize train and test set\n",
    "scaler = preprocessing.StandardScaler()\n",
    "train_scaled = pd.DataFrame(scaler.fit_transform(train))\n",
    "test_scaled = pd.DataFrame(scaler.transform(test))\n",
    "print(train_scaled.shape, test_scaled.shape)"
   ]
  },
  {
   "cell_type": "code",
   "execution_count": 49,
   "metadata": {},
   "outputs": [],
   "source": [
    "# prepare data for LSTM"
   ]
  },
  {
   "cell_type": "code",
   "execution_count": 15,
   "metadata": {},
   "outputs": [],
   "source": [
    "def temporalize(X, lookback):\n",
    "    output_X = []\n",
    "    for i in range(len(X)-lookback-1):\n",
    "        t = []\n",
    "        for j in range(1,lookback+1):\n",
    "            # Gather past records upto the lookback period\n",
    "            t.append(X[[(i+j+1)], :])\n",
    "        output_X.append(t)\n",
    "    return output_X\n",
    "\n",
    "\n",
    "def flatten(X):\n",
    "    '''\n",
    "    Flatten a 3D array.\n",
    "    \n",
    "    Input\n",
    "    X            A 3D array for lstm, where the array is sample x timesteps x features.\n",
    "    \n",
    "    Output\n",
    "    flattened_X  A 2D array, sample x features.\n",
    "    '''\n",
    "    flattened_X = np.empty((X.shape[0], X.shape[2]))  # sample x features array.\n",
    "    for i in range(X.shape[0]):\n",
    "        flattened_X[i] = X[i, (X.shape[1]-1), :]\n",
    "    return(flattened_X)\n",
    "\n",
    "def scale(X, scaler):\n",
    "    '''\n",
    "    Scale 3D array.\n",
    "\n",
    "    Inputs\n",
    "    X            A 3D array for lstm, where the array is sample x timesteps x features.\n",
    "    scaler       A scaler object, e.g., sklearn.preprocessing.StandardScaler, sklearn.preprocessing.normalize\n",
    "    \n",
    "    Output\n",
    "    X            Scaled 3D array.\n",
    "    '''\n",
    "    for i in range(X.shape[0]):\n",
    "        X[i, :, :] = scaler.transform(X[i, :, :])\n",
    "        \n",
    "    return X"
   ]
  },
  {
   "cell_type": "code",
   "execution_count": 17,
   "metadata": {},
   "outputs": [
    {
     "name": "stdout",
     "output_type": "stream",
     "text": [
      "667 275\n"
     ]
    }
   ],
   "source": [
    "n_features = train_scaled.shape[1] \n",
    "lookback = 20  \n",
    "\n",
    "# Temporalize the data\n",
    "X = temporalize(X = train_scaled.values, lookback = lookback)\n",
    "X_t = temporalize(X = test_scaled.values, lookback = lookback)"
   ]
  },
  {
   "cell_type": "code",
   "execution_count": 18,
   "metadata": {},
   "outputs": [
    {
     "name": "stdout",
     "output_type": "stream",
     "text": [
      "(667, 20, 1, 4096) (275, 20, 1, 4096)\n"
     ]
    }
   ],
   "source": [
    "X_train_lstm = np.array(X)\n",
    "X_test_lstm = np.array(X_t)\n",
    "X_train = X_train_lstm.reshape(X_train_lstm.shape[0], lookback, n_features)\n",
    "X_test = X_test_lstm.reshape(X_test_lstm.shape[0], lookback, n_features)\n",
    "print(X_train.shape, X_test.shape)"
   ]
  },
  {
   "cell_type": "code",
   "execution_count": 55,
   "metadata": {},
   "outputs": [],
   "source": [
    "# LSTM AE Anomaly Detector"
   ]
  },
  {
   "cell_type": "code",
   "execution_count": 24,
   "metadata": {},
   "outputs": [],
   "source": [
    "timesteps =  X_train.shape[1] # equal to the lookback=20\n",
    "n_features =  X_train.shape[2] # 4096\n",
    "\n",
    "epochs = 100\n",
    "batch = 64\n",
    "lr = 0.001"
   ]
  },
  {
   "cell_type": "code",
   "execution_count": 27,
   "metadata": {},
   "outputs": [
    {
     "name": "stdout",
     "output_type": "stream",
     "text": [
      "Model: \"sequential_3\"\n",
      "_________________________________________________________________\n",
      "Layer (type)                 Output Shape              Param #   \n",
      "=================================================================\n",
      "lstm_9 (LSTM)                (None, 20, 600)           11272800  \n",
      "_________________________________________________________________\n",
      "lstm_10 (LSTM)               (None, 250)               851000    \n",
      "_________________________________________________________________\n",
      "repeat_vector_3 (RepeatVecto (None, 20, 250)           0         \n",
      "_________________________________________________________________\n",
      "lstm_11 (LSTM)               (None, 20, 250)           501000    \n",
      "_________________________________________________________________\n",
      "lstm_12 (LSTM)               (None, 20, 600)           2042400   \n",
      "_________________________________________________________________\n",
      "time_distributed_3 (TimeDist (None, 20, 4096)          2461696   \n",
      "=================================================================\n",
      "Total params: 17,128,896\n",
      "Trainable params: 17,128,896\n",
      "Non-trainable params: 0\n",
      "_________________________________________________________________\n"
     ]
    }
   ],
   "source": [
    "lstm_autoencoder = Sequential()\n",
    "# Encoder\n",
    "lstm_autoencoder.add(LSTM(600, activation='relu', input_shape=(timesteps, n_features), return_sequences=True))\n",
    "lstm_autoencoder.add(LSTM(250, activation='relu', return_sequences=False))\n",
    "lstm_autoencoder.add(RepeatVector(timesteps))\n",
    "# Decoder\n",
    "lstm_autoencoder.add(LSTM(250, activation='relu', return_sequences=True))\n",
    "lstm_autoencoder.add(LSTM(600, activation='tanh', return_sequences=True))\n",
    "lstm_autoencoder.add(TimeDistributed(Dense(n_features)))\n",
    "\n",
    "lstm_autoencoder.summary()"
   ]
  },
  {
   "cell_type": "code",
   "execution_count": 28,
   "metadata": {},
   "outputs": [
    {
     "name": "stdout",
     "output_type": "stream",
     "text": [
      "WARNING:tensorflow:From C:\\Users\\sabta\\.conda\\envs\\tf-gpu-cuda8\\lib\\site-packages\\keras\\backend\\tensorflow_backend.py:422: The name tf.global_variables is deprecated. Please use tf.compat.v1.global_variables instead.\n",
      "\n",
      "Train on 613 samples, validate on 54 samples\n",
      "Epoch 1/100\n",
      " - 8s - loss: 0.9925 - val_loss: 1.0637\n",
      "Epoch 2/100\n",
      " - 4s - loss: 0.9862 - val_loss: 1.0642\n",
      "Epoch 3/100\n",
      " - 5s - loss: 0.9772 - val_loss: 1.0609\n",
      "Epoch 4/100\n",
      " - 5s - loss: 0.9723 - val_loss: 1.0628\n",
      "Epoch 5/100\n",
      " - 4s - loss: 0.9673 - val_loss: 1.0622\n",
      "Epoch 6/100\n",
      " - 4s - loss: 0.9622 - val_loss: 1.0619\n",
      "Epoch 7/100\n",
      " - 5s - loss: 0.9568 - val_loss: 1.0628\n",
      "Epoch 8/100\n",
      " - 4s - loss: 0.9513 - val_loss: 1.0717\n",
      "Epoch 9/100\n",
      " - 5s - loss: 0.9453 - val_loss: 1.0678\n",
      "Epoch 10/100\n",
      " - 5s - loss: 0.9431 - val_loss: 1.0885\n",
      "Epoch 11/100\n",
      " - 5s - loss: 0.9608 - val_loss: 1.0779\n",
      "Epoch 12/100\n",
      " - 4s - loss: 0.9741 - val_loss: 1.0747\n",
      "Epoch 13/100\n",
      " - 4s - loss: 0.9914 - val_loss: 1.0707\n",
      "Epoch 14/100\n",
      " - 4s - loss: 0.9956 - val_loss: 1.0717\n",
      "Epoch 15/100\n",
      " - 4s - loss: 0.9952 - val_loss: 1.0704\n",
      "Epoch 16/100\n",
      " - 4s - loss: 0.9929 - val_loss: 1.0709\n",
      "Epoch 17/100\n",
      " - 5s - loss: 0.9943 - val_loss: 1.0688\n",
      "Epoch 18/100\n",
      " - 5s - loss: 0.9937 - val_loss: 1.0726\n",
      "Epoch 19/100\n",
      " - 4s - loss: 0.9937 - val_loss: 1.0700\n",
      "Epoch 20/100\n",
      " - 4s - loss: 0.9932 - val_loss: 1.0709\n",
      "Epoch 21/100\n",
      " - 4s - loss: 0.9926 - val_loss: 1.0698\n",
      "Epoch 22/100\n",
      " - 5s - loss: 0.9928 - val_loss: 1.0695\n",
      "Epoch 23/100\n",
      " - 4s - loss: 0.9926 - val_loss: 1.0691\n",
      "Epoch 24/100\n",
      " - 4s - loss: 0.9925 - val_loss: 1.0684\n",
      "Epoch 25/100\n",
      " - 5s - loss: 0.9924 - val_loss: 1.0696\n",
      "Epoch 26/100\n",
      " - 4s - loss: 0.9927 - val_loss: 1.0690\n",
      "Epoch 27/100\n",
      " - 4s - loss: 0.9925 - val_loss: 1.0692\n",
      "Epoch 28/100\n",
      " - 4s - loss: 0.9924 - val_loss: 1.0693\n",
      "Epoch 29/100\n",
      " - 4s - loss: 0.9925 - val_loss: 1.0698\n",
      "Epoch 30/100\n",
      " - 5s - loss: 0.9926 - val_loss: 1.0688\n",
      "Epoch 31/100\n",
      " - 4s - loss: 0.9924 - val_loss: 1.0699\n",
      "Epoch 32/100\n",
      " - 5s - loss: 0.9925 - val_loss: 1.0693\n",
      "Epoch 33/100\n",
      " - 4s - loss: 0.9924 - val_loss: 1.0694\n",
      "Epoch 34/100\n",
      " - 5s - loss: 0.9923 - val_loss: 1.0691\n",
      "Epoch 35/100\n",
      " - 4s - loss: 0.9922 - val_loss: 1.0691\n",
      "Epoch 36/100\n",
      " - 5s - loss: 0.9921 - val_loss: 1.0695\n",
      "Epoch 37/100\n",
      " - 4s - loss: 0.9923 - val_loss: 1.0694\n",
      "Epoch 38/100\n",
      " - 4s - loss: 0.9923 - val_loss: 1.0689\n",
      "Epoch 39/100\n",
      " - 5s - loss: 0.9922 - val_loss: 1.0686\n",
      "Epoch 40/100\n",
      " - 5s - loss: 0.9921 - val_loss: 1.0691\n",
      "Epoch 41/100\n",
      " - 5s - loss: 0.9920 - val_loss: 1.0688\n",
      "Epoch 42/100\n",
      " - 4s - loss: 0.9919 - val_loss: 1.0690\n",
      "Epoch 43/100\n",
      " - 4s - loss: 0.9920 - val_loss: 1.0688\n",
      "Epoch 44/100\n",
      " - 4s - loss: 0.9922 - val_loss: 1.0692\n",
      "Epoch 45/100\n",
      " - 4s - loss: 0.9921 - val_loss: 1.0689\n",
      "Epoch 46/100\n",
      " - 4s - loss: 0.9922 - val_loss: 1.0692\n",
      "Epoch 47/100\n",
      " - 5s - loss: 0.9922 - val_loss: 1.0689\n",
      "Epoch 48/100\n",
      " - 4s - loss: 0.9922 - val_loss: 1.0698\n",
      "Epoch 49/100\n",
      " - 5s - loss: 0.9923 - val_loss: 1.0691\n",
      "Epoch 50/100\n",
      " - 4s - loss: 0.9923 - val_loss: 1.0692\n",
      "Epoch 51/100\n",
      " - 5s - loss: 0.9922 - val_loss: 1.0693\n",
      "Epoch 52/100\n",
      " - 5s - loss: 0.9922 - val_loss: 1.0689\n",
      "Epoch 53/100\n",
      " - 5s - loss: 0.9923 - val_loss: 1.0690\n",
      "Epoch 54/100\n",
      " - 5s - loss: 0.9922 - val_loss: 1.0694\n",
      "Epoch 55/100\n",
      " - 5s - loss: 0.9921 - val_loss: 1.0691\n",
      "Epoch 56/100\n",
      " - 5s - loss: 0.9921 - val_loss: 1.0698\n",
      "Epoch 57/100\n",
      " - 5s - loss: 0.9920 - val_loss: 1.0686\n",
      "Epoch 58/100\n",
      " - 5s - loss: 0.9921 - val_loss: 1.0690\n",
      "Epoch 59/100\n",
      " - 4s - loss: 0.9921 - val_loss: 1.0701\n",
      "Epoch 60/100\n",
      " - 4s - loss: 0.9920 - val_loss: 1.0692\n",
      "Epoch 61/100\n",
      " - 4s - loss: 0.9919 - val_loss: 1.0692\n",
      "Epoch 62/100\n",
      " - 4s - loss: 0.9920 - val_loss: 1.0697\n",
      "Epoch 63/100\n",
      " - 4s - loss: 0.9920 - val_loss: 1.0687\n",
      "Epoch 64/100\n",
      " - 4s - loss: 0.9921 - val_loss: 1.0685\n",
      "Epoch 65/100\n",
      " - 4s - loss: 0.9921 - val_loss: 1.0701\n",
      "Epoch 66/100\n",
      " - 4s - loss: 0.9921 - val_loss: 1.0692\n",
      "Epoch 67/100\n",
      " - 4s - loss: 0.9921 - val_loss: 1.0693\n",
      "Epoch 68/100\n",
      " - 4s - loss: 0.9922 - val_loss: 1.0694\n",
      "Epoch 69/100\n",
      " - 4s - loss: 0.9919 - val_loss: 1.0692\n",
      "Epoch 70/100\n",
      " - 4s - loss: 0.9920 - val_loss: 1.0691\n",
      "Epoch 71/100\n",
      " - 4s - loss: 0.9919 - val_loss: 1.0694\n",
      "Epoch 72/100\n",
      " - 5s - loss: 0.9919 - val_loss: 1.0684\n",
      "Epoch 73/100\n",
      " - 5s - loss: 0.9923 - val_loss: 1.0699\n",
      "Epoch 74/100\n",
      " - 4s - loss: 0.9924 - val_loss: 1.0688\n",
      "Epoch 75/100\n",
      " - 4s - loss: 0.9922 - val_loss: 1.0689\n",
      "Epoch 76/100\n",
      " - 4s - loss: 0.9922 - val_loss: 1.0685\n",
      "Epoch 77/100\n",
      " - 4s - loss: 0.9922 - val_loss: 1.0695\n",
      "Epoch 78/100\n",
      " - 4s - loss: 0.9921 - val_loss: 1.0687\n",
      "Epoch 79/100\n",
      " - 5s - loss: 0.9920 - val_loss: 1.0694\n",
      "Epoch 80/100\n",
      " - 4s - loss: 0.9921 - val_loss: 1.0688\n",
      "Epoch 81/100\n",
      " - 4s - loss: 0.9922 - val_loss: 1.0697\n",
      "Epoch 82/100\n",
      " - 5s - loss: 0.9920 - val_loss: 1.0687\n",
      "Epoch 83/100\n",
      " - 4s - loss: 0.9921 - val_loss: 1.0690\n",
      "Epoch 84/100\n",
      " - 5s - loss: 0.9920 - val_loss: 1.0694\n",
      "Epoch 85/100\n",
      " - 5s - loss: 0.9921 - val_loss: 1.0688\n",
      "Epoch 86/100\n",
      " - 4s - loss: 0.9922 - val_loss: 1.0691\n",
      "Epoch 87/100\n",
      " - 5s - loss: 0.9921 - val_loss: 1.0690\n",
      "Epoch 88/100\n",
      " - 4s - loss: 0.9920 - val_loss: 1.0689\n",
      "Epoch 89/100\n",
      " - 5s - loss: 0.9920 - val_loss: 1.0689\n",
      "Epoch 90/100\n",
      " - 4s - loss: 0.9920 - val_loss: 1.0689\n",
      "Epoch 91/100\n",
      " - 4s - loss: 0.9920 - val_loss: 1.0690\n",
      "Epoch 92/100\n",
      " - 4s - loss: 0.9921 - val_loss: 1.0692\n",
      "Epoch 93/100\n",
      " - 4s - loss: 0.9920 - val_loss: 1.0690\n",
      "Epoch 94/100\n",
      " - 5s - loss: 0.9920 - val_loss: 1.0693\n",
      "Epoch 95/100\n",
      " - 4s - loss: 0.9920 - val_loss: 1.0690\n",
      "Epoch 96/100\n",
      " - 4s - loss: 0.9921 - val_loss: 1.0695\n",
      "Epoch 97/100\n",
      " - 4s - loss: 0.9922 - val_loss: 1.0689\n",
      "Epoch 98/100\n",
      " - 4s - loss: 0.9921 - val_loss: 1.0695\n",
      "Epoch 99/100\n",
      " - 4s - loss: 0.9920 - val_loss: 1.0686\n",
      "Epoch 100/100\n",
      " - 4s - loss: 0.9920 - val_loss: 1.0690\n"
     ]
    }
   ],
   "source": [
    "adam = optimizers.Adam(lr)\n",
    "lstm_autoencoder.compile(loss='mse', optimizer=adam)\n",
    "\n",
    "cp = ModelCheckpoint(filepath=\"lstm_autoencoder_classifier.h5\",\n",
    "                               save_best_only=True,\n",
    "                               verbose=0)\n",
    "\n",
    "tb = TensorBoard(log_dir='./logs',\n",
    "                histogram_freq=0,\n",
    "                write_graph=True,\n",
    "                write_images=True)\n",
    "\n",
    "lstm_autoencoder_history = lstm_autoencoder.fit(X_train, X_train, \n",
    "                                                epochs=epochs, \n",
    "                                                batch_size=batch, \n",
    "                                                validation_split=0.08,\n",
    "                                                verbose=2).history"
   ]
  },
  {
   "cell_type": "code",
   "execution_count": null,
   "metadata": {},
   "outputs": [],
   "source": []
  },
  {
   "cell_type": "code",
   "execution_count": 29,
   "metadata": {},
   "outputs": [
    {
     "data": {
      "image/png": "[encoded data removed]",
      "text/plain": [
       "<Figure size 432x288 with 1 Axes>"
      ]
     },
     "metadata": {
      "needs_background": "light"
     },
     "output_type": "display_data"
    }
   ],
   "source": [
    "plt.plot(lstm_autoencoder_history['loss'], linewidth=2, label='Train')\n",
    "plt.plot(lstm_autoencoder_history['val_loss'], linewidth=2, label='Valid')\n",
    "plt.legend(loc='upper right')\n",
    "plt.title('Model loss')\n",
    "plt.ylabel('Loss')\n",
    "plt.xlabel('Epoch')\n",
    "plt.show()"
   ]
  },
  {
   "cell_type": "code",
   "execution_count": 30,
   "metadata": {},
   "outputs": [],
   "source": [
    "X_pred_train = lstm_autoencoder.predict(np.array(X_train))\n",
    "X_pred_train = pd.DataFrame(flatten(X_pred_train))"
   ]
  },
  {
   "cell_type": "code",
   "execution_count": 50,
   "metadata": {},
   "outputs": [
    {
     "data": {
      "image/png": "[encoded data removed]",
      "text/plain": [
       "<Figure size 432x288 with 1 Axes>"
      ]
     },
     "metadata": {
      "needs_background": "light"
     },
     "output_type": "display_data"
    }
   ],
   "source": [
    "scored = pd.DataFrame(index=X_pred_train.index)\n",
    "scored['RE'] = np.mean(np.abs(X_pred_train - flatten(X_train)), axis = 1)\n",
    "plt.figure()\n",
    "sns.distplot(scored['RE'],\n",
    "             bins = 15, \n",
    "             kde= True,\n",
    "            color = 'blue');\n",
    "plt.title(\"Training Reconstruction Error\")\n",
    "plt.savefig(\"RE_medium\")"
   ]
  },
  {
   "cell_type": "code",
   "execution_count": 63,
   "metadata": {},
   "outputs": [
    {
     "data": {
      "text/html": [
       "<div>\n",
       "<style scoped>\n",
       "    .dataframe tbody tr th:only-of-type {\n",
       "        vertical-align: middle;\n",
       "    }\n",
       "\n",
       "    .dataframe tbody tr th {\n",
       "        vertical-align: top;\n",
       "    }\n",
       "\n",
       "    .dataframe thead th {\n",
       "        text-align: right;\n",
       "    }\n",
       "</style>\n",
       "<table border=\"1\" class=\"dataframe\">\n",
       "  <thead>\n",
       "    <tr style=\"text-align: right;\">\n",
       "      <th></th>\n",
       "      <th>Loss_mae</th>\n",
       "    </tr>\n",
       "  </thead>\n",
       "  <tbody>\n",
       "    <tr>\n",
       "      <th>count</th>\n",
       "      <td>667.000000</td>\n",
       "    </tr>\n",
       "    <tr>\n",
       "      <th>mean</th>\n",
       "      <td>0.808511</td>\n",
       "    </tr>\n",
       "    <tr>\n",
       "      <th>std</th>\n",
       "      <td>0.021695</td>\n",
       "    </tr>\n",
       "    <tr>\n",
       "      <th>min</th>\n",
       "      <td>0.757199</td>\n",
       "    </tr>\n",
       "    <tr>\n",
       "      <th>25%</th>\n",
       "      <td>0.792314</td>\n",
       "    </tr>\n",
       "    <tr>\n",
       "      <th>50%</th>\n",
       "      <td>0.806773</td>\n",
       "    </tr>\n",
       "    <tr>\n",
       "      <th>75%</th>\n",
       "      <td>0.821853</td>\n",
       "    </tr>\n",
       "    <tr>\n",
       "      <th>max</th>\n",
       "      <td>0.884267</td>\n",
       "    </tr>\n",
       "  </tbody>\n",
       "</table>\n",
       "</div>"
      ],
      "text/plain": [
       "         Loss_mae\n",
       "count  667.000000\n",
       "mean     0.808511\n",
       "std      0.021695\n",
       "min      0.757199\n",
       "25%      0.792314\n",
       "50%      0.806773\n",
       "75%      0.821853\n",
       "max      0.884267"
      ]
     },
     "execution_count": 63,
     "metadata": {},
     "output_type": "execute_result"
    }
   ],
   "source": [
    "scored.describe()"
   ]
  },
  {
   "cell_type": "code",
   "execution_count": null,
   "metadata": {},
   "outputs": [],
   "source": []
  },
  {
   "cell_type": "code",
   "execution_count": 51,
   "metadata": {},
   "outputs": [
    {
     "name": "stdout",
     "output_type": "stream",
     "text": [
      "(275, 20, 4096)\n",
      "(275, 4096)\n"
     ]
    }
   ],
   "source": [
    "X_pred_test = lstm_autoencoder.predict(np.array(X_test))\n",
    "X_pred_test = pd.DataFrame(flatten(X_pred_test))"
   ]
  },
  {
   "cell_type": "code",
   "execution_count": 55,
   "metadata": {},
   "outputs": [
    {
     "data": {
      "image/png": "[encoded data removed]",
      "text/plain": [
       "<Figure size 432x288 with 1 Axes>"
      ]
     },
     "metadata": {
      "needs_background": "light"
     },
     "output_type": "display_data"
    }
   ],
   "source": [
    "scored_test = pd.DataFrame(index=X_pred_test.index)\n",
    "scored_test['RE'] = np.mean(np.abs(X_pred_test2 - flatten(X_test)), axis = 1)\n",
    "plt.figure()\n",
    "sns.distplot(scored_test['RE'],bins = 15, kde= True,color = 'blue')\n",
    "plt.title(\"Reconstruction loss Bearing 1 (Test set)\")\n",
    "plt.savefig(\"RE_test\")"
   ]
  },
  {
   "cell_type": "code",
   "execution_count": 60,
   "metadata": {},
   "outputs": [],
   "source": [
    "scored_test['Threshold'] = 1.0\n",
    "scored_test['Anomaly'] = scored_test2['RE'] > scored_test['Threshold']"
   ]
  },
  {
   "cell_type": "code",
   "execution_count": 61,
   "metadata": {},
   "outputs": [
    {
     "data": {
      "text/plain": [
       "<matplotlib.axes._subplots.AxesSubplot at 0x175518aae88>"
      ]
     },
     "execution_count": 61,
     "metadata": {},
     "output_type": "execute_result"
    },
    {
     "data": {
      "image/png": "[encoded data removed]",
      "text/plain": [
       "<Figure size 1152x576 with 1 Axes>"
      ]
     },
     "metadata": {
      "needs_background": "light"
     },
     "output_type": "display_data"
    }
   ],
   "source": [
    "scored_test.plot(figsize = (16,8), color = ['blue','red'],title=\"Failure of Bearing 1 (Set-2)\")"
   ]
  }
 ],
 "metadata": {
  "kernelspec": {
   "display_name": "Python [conda env:.conda-tf-gpu-cuda8]",
   "language": "python",
   "name": "conda-env-.conda-tf-gpu-cuda8-py"
  },
  "language_info": {
   "codemirror_mode": {
    "name": "ipython",
    "version": 3
   },
   "file_extension": ".py",
   "mimetype": "text/x-python",
   "name": "python",
   "nbconvert_exporter": "python",
   "pygments_lexer": "ipython3",
   "version": "3.7.7"
  }
 },
 "nbformat": 4,
 "nbformat_minor": 2
}
